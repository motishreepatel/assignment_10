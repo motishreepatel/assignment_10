{
 "cells": [
  {
   "cell_type": "code",
   "execution_count": null,
   "metadata": {},
   "outputs": [],
   "source": [
    "#Q - 1. How do you distinguish between shutil.copy() and shutil.copytree()?\n",
    "#Answer:\n",
    "The shutil.copy() and shutil.copytree() are two functions in the shutil module of Python. \n",
    "shutil.copy(src,dst) - Copies a single file from the source to destination. Two arguments are path of source file and path of the destination directory\n",
    "shutil.copytree(src,dst) - Copies the entire directory tree from source to destination. It creates a new directory and copies all files and sub directories there."
   ]
  },
  {
   "cell_type": "code",
   "execution_count": null,
   "metadata": {},
   "outputs": [],
   "source": [
    "#Q - 2. What function is used to rename files??\n",
    "#Answer:\n",
    "we use os.rename(src,dst) function of 'os' module to rename files and directories. It takes two arguments: the path of the source file or directory to be renamed (src) and \n",
    "the new name or path of the destination file or directory (dst)."
   ]
  },
  {
   "cell_type": "code",
   "execution_count": null,
   "metadata": {},
   "outputs": [],
   "source": [
    "#Q - 3. What is the difference between the delete functions in the send2trash and shutil modules?\n",
    "#Answer:\n",
    "The delete functions in send2trash module provides a safe way to delete files and directories by moving them to the operating system's trash or recycle bin instead of permanently deleting them. \n",
    "The delete functions in shutil module directly and permanently delete the specified files or directories, without moving them to the trash or recycle bin."
   ]
  },
  {
   "cell_type": "code",
   "execution_count": null,
   "metadata": {},
   "outputs": [],
   "source": [
    "#Q - 4.ZipFile objects have a close() method just like File objects’ close() method. What ZipFile method is equivalent to File objects’ open() method?\n",
    "#Answer:\n",
    "The equivalent method from ZipFile as open() method in file objects is ZipFile()"
   ]
  },
  {
   "cell_type": "code",
   "execution_count": null,
   "metadata": {},
   "outputs": [],
   "source": [
    "#Q - 5. Create a programme that searches a folder tree for files with a certain file extension (such as .pdf or .jpg). Copy these files from whatever location they are in to a new folder.\n",
    "#Answer:\n",
    "import os\n",
    "import shutil\n",
    "\n",
    "def search_and_copy_files(source_folder, destination_folder, file_extension):\n",
    "    # Create the destination folder if it doesn't exist\n",
    "    if not os.path.exists(destination_folder):\n",
    "        os.makedirs(destination_folder)\n",
    "\n",
    "    # Walk through the folder tree and copy matching files\n",
    "    for root, _, files in os.walk(source_folder):\n",
    "        for file in files:\n",
    "            if file.endswith(file_extension):\n",
    "                source_path = os.path.join(root, file)\n",
    "                destination_path = os.path.join(destination_folder, file)\n",
    "                shutil.copy2(source_path, destination_path)\n",
    "                print(f\"Copied: {source_path} -> {destination_path}\")\n",
    "\n",
    "# Example usage\n",
    "source_folder = \"/Users/Moti\"\n",
    "destination_folder = \"/Users/Moti/Desktop/copy files\"\n",
    "file_extension = \".sql\"\n",
    "\n",
    "search_and_copy_files(source_folder, destination_folder, file_extension)"
   ]
  }
 ],
 "metadata": {
  "kernelspec": {
   "display_name": "Python 3.9.6 64-bit",
   "language": "python",
   "name": "python3"
  },
  "language_info": {
   "codemirror_mode": {
    "name": "ipython",
    "version": 3
   },
   "file_extension": ".py",
   "mimetype": "text/x-python",
   "name": "python",
   "nbconvert_exporter": "python",
   "pygments_lexer": "ipython3",
   "version": "3.9.6"
  },
  "orig_nbformat": 4,
  "vscode": {
   "interpreter": {
    "hash": "31f2aee4e71d21fbe5cf8b01ff0e069b9275f58929596ceb00d14d90e3e16cd6"
   }
  }
 },
 "nbformat": 4,
 "nbformat_minor": 2
}
